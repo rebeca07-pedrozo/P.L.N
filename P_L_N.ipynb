{
  "nbformat": 4,
  "nbformat_minor": 0,
  "metadata": {
    "colab": {
      "provenance": [],
      "toc_visible": true,
      "include_colab_link": true
    },
    "kernelspec": {
      "name": "python3",
      "display_name": "Python 3"
    },
    "language_info": {
      "name": "python"
    }
  },
  "cells": [
    {
      "cell_type": "markdown",
      "metadata": {
        "id": "view-in-github",
        "colab_type": "text"
      },
      "source": [
        "<a href=\"https://colab.research.google.com/github/rebeca07-pedrozo/P.L.N/blob/main/P_L_N.ipynb\" target=\"_parent\"><img src=\"https://colab.research.google.com/assets/colab-badge.svg\" alt=\"Open In Colab\"/></a>"
      ]
    },
    {
      "cell_type": "code",
      "execution_count": 30,
      "metadata": {
        "id": "Dk4Yhs1E2dhy"
      },
      "outputs": [],
      "source": [
        "import numpy as np\n",
        "import pandas as pd\n",
        "import sympy as sp"
      ]
    },
    {
      "cell_type": "markdown",
      "source": [
        "# Ejericios sábado 9 de agosto"
      ],
      "metadata": {
        "id": "C32An5a34h7a"
      }
    },
    {
      "cell_type": "markdown",
      "source": [
        "**Ejercicio  1**"
      ],
      "metadata": {
        "id": "GD1Blkhw49a7"
      }
    },
    {
      "cell_type": "code",
      "source": [
        "Logaritmo1=np.log(np.pi/4)\n",
        "Logaritmo2=np.log(np.e**2)\n",
        "print(Logaritmo2)\n",
        "Seno=np.sin(np.pi/2)\n",
        "print(Seno)\n",
        "Arct=np.arctan(1)\n",
        "print(Arct)\n",
        "Log2=np.log2(10)\n"
      ],
      "metadata": {
        "id": "Jd25Xl8A5AXn",
        "colab": {
          "base_uri": "https://localhost:8080/"
        },
        "outputId": "eda9a9bd-64e9-4bc4-9425-bea8c0e33314"
      },
      "execution_count": 31,
      "outputs": [
        {
          "output_type": "stream",
          "name": "stdout",
          "text": [
            "2.0\n",
            "1.0\n",
            "0.7853981633974483\n"
          ]
        }
      ]
    },
    {
      "cell_type": "code",
      "source": [
        "print(np.log(np.pi/4))\n"
      ],
      "metadata": {
        "colab": {
          "base_uri": "https://localhost:8080/"
        },
        "id": "68MJlmd2w1LQ",
        "outputId": "b107afc0-3d64-4418-cba8-40791ba5a3a8"
      },
      "execution_count": 32,
      "outputs": [
        {
          "output_type": "stream",
          "name": "stdout",
          "text": [
            "-0.2415644752704905\n"
          ]
        }
      ]
    },
    {
      "cell_type": "code",
      "source": [
        "print(np.log(np.e**2))"
      ],
      "metadata": {
        "colab": {
          "base_uri": "https://localhost:8080/"
        },
        "id": "-SoV7I0xw6uI",
        "outputId": "cfb8edd6-d028-4e50-bd80-433ae508b286"
      },
      "execution_count": 33,
      "outputs": [
        {
          "output_type": "stream",
          "name": "stdout",
          "text": [
            "2.0\n"
          ]
        }
      ]
    },
    {
      "cell_type": "code",
      "source": [
        "print(np.sin(np.pi/2))"
      ],
      "metadata": {
        "colab": {
          "base_uri": "https://localhost:8080/"
        },
        "id": "YehTaemlw77G",
        "outputId": "b4ad069a-d919-4b12-db8c-404ac5d2dd25"
      },
      "execution_count": 34,
      "outputs": [
        {
          "output_type": "stream",
          "name": "stdout",
          "text": [
            "1.0\n"
          ]
        }
      ]
    },
    {
      "cell_type": "code",
      "source": [
        "print(np.arctan(1))"
      ],
      "metadata": {
        "colab": {
          "base_uri": "https://localhost:8080/"
        },
        "id": "qlOimnRdw_Zr",
        "outputId": "20bac65f-f041-456f-de72-5356b035bf5c"
      },
      "execution_count": 35,
      "outputs": [
        {
          "output_type": "stream",
          "name": "stdout",
          "text": [
            "0.7853981633974483\n"
          ]
        }
      ]
    },
    {
      "cell_type": "code",
      "source": [
        "print(np.log2(10))"
      ],
      "metadata": {
        "colab": {
          "base_uri": "https://localhost:8080/"
        },
        "id": "serrHBt5xCs7",
        "outputId": "77fdd001-31e2-4427-9172-fdd5363b388e"
      },
      "execution_count": 36,
      "outputs": [
        {
          "output_type": "stream",
          "name": "stdout",
          "text": [
            "3.321928094887362\n"
          ]
        }
      ]
    },
    {
      "cell_type": "markdown",
      "source": [
        "**Ejericio 2**"
      ],
      "metadata": {
        "id": "0Srmw4lY5Dnx"
      }
    },
    {
      "cell_type": "code",
      "source": [
        "A=np.array([2,-1,4,0,3])\n",
        "B=np.array([-1,0,2,3,1])\n",
        "C=np.array([0,1,-3,4,-7])\n",
        "print(A,B,C)"
      ],
      "metadata": {
        "colab": {
          "base_uri": "https://localhost:8080/"
        },
        "id": "6ylaQ1_O5FhN",
        "outputId": "cc201090-b79a-4977-91d9-f6877a4aad51"
      },
      "execution_count": 37,
      "outputs": [
        {
          "output_type": "stream",
          "name": "stdout",
          "text": [
            "[ 2 -1  4  0  3] [-1  0  2  3  1] [ 0  1 -3  4 -7]\n"
          ]
        }
      ]
    },
    {
      "cell_type": "code",
      "source": [
        "operacion1=(2*A)-(3*B)+C\n",
        "print(operacion1)"
      ],
      "metadata": {
        "colab": {
          "base_uri": "https://localhost:8080/"
        },
        "id": "6_zIFbwF7eWa",
        "outputId": "2c75a7ff-eb96-49ad-f820-7032d0a90b2b"
      },
      "execution_count": 38,
      "outputs": [
        {
          "output_type": "stream",
          "name": "stdout",
          "text": [
            "[ 7 -1 -1 -5 -4]\n"
          ]
        }
      ]
    },
    {
      "cell_type": "code",
      "source": [
        "operacion2=np.dot(A,B)\n",
        "print(operacion2)"
      ],
      "metadata": {
        "colab": {
          "base_uri": "https://localhost:8080/"
        },
        "id": "CZ4zpMog7eey",
        "outputId": "aaeedb61-b010-4edf-e42e-f0d4db02b424"
      },
      "execution_count": 39,
      "outputs": [
        {
          "output_type": "stream",
          "name": "stdout",
          "text": [
            "9\n"
          ]
        }
      ]
    },
    {
      "cell_type": "code",
      "source": [
        "operacion3=A*B\n",
        "print(operacion3)\n"
      ],
      "metadata": {
        "colab": {
          "base_uri": "https://localhost:8080/"
        },
        "id": "8pThAfsJ7fNA",
        "outputId": "c0763fe6-e7ad-4e0f-b3e2-5a3d87a61eab"
      },
      "execution_count": 40,
      "outputs": [
        {
          "output_type": "stream",
          "name": "stdout",
          "text": [
            "[-2  0  8  0  3]\n"
          ]
        }
      ]
    },
    {
      "cell_type": "markdown",
      "source": [
        "**Ejercicio 3**\n",
        "\n",
        "\n"
      ],
      "metadata": {
        "id": "qg9oj9Qf7u-r"
      }
    },
    {
      "cell_type": "code",
      "source": [
        "lista1=np.arange(2,22)\n",
        "lista2=np.arange(22,32)\n",
        "print(lista1)\n",
        "print(lista2)"
      ],
      "metadata": {
        "id": "bj1DT_Vq78BC",
        "colab": {
          "base_uri": "https://localhost:8080/"
        },
        "outputId": "fd8337e5-d910-4ef1-e8b8-e95711498dad"
      },
      "execution_count": 75,
      "outputs": [
        {
          "output_type": "stream",
          "name": "stdout",
          "text": [
            "[ 2  3  4  5  6  7  8  9 10 11 12 13 14 15 16 17 18 19 20 21]\n",
            "[22 23 24 25 26 27 28 29 30 31]\n"
          ]
        }
      ]
    },
    {
      "cell_type": "code",
      "source": [
        "segundoElemento=lista1[1]\n",
        "productos=segundoElemento*lista2\n",
        "print(productos)"
      ],
      "metadata": {
        "colab": {
          "base_uri": "https://localhost:8080/"
        },
        "id": "wIAL3KAtKDz0",
        "outputId": "e3dfab3a-6fc8-4ce1-eb19-f32c82bb6b52"
      },
      "execution_count": 78,
      "outputs": [
        {
          "output_type": "stream",
          "name": "stdout",
          "text": [
            "[66 69 72 75 78 81 84 87 90 93]\n"
          ]
        }
      ]
    },
    {
      "cell_type": "code",
      "source": [
        "resultado=productos/lista2\n",
        "print(resultado)"
      ],
      "metadata": {
        "colab": {
          "base_uri": "https://localhost:8080/"
        },
        "id": "ffhcQ2qEQpXY",
        "outputId": "e9ed655d-5bbf-4c08-d0a3-79e235840848"
      },
      "execution_count": 80,
      "outputs": [
        {
          "output_type": "stream",
          "name": "stdout",
          "text": [
            "[3. 3. 3. 3. 3. 3. 3. 3. 3. 3.]\n"
          ]
        }
      ]
    },
    {
      "cell_type": "code",
      "source": [
        "segundo_elem = lista1[1]\n",
        "print(\"\\nSegundo elemento de lista1:\", segundo_elem)"
      ],
      "metadata": {
        "colab": {
          "base_uri": "https://localhost:8080/"
        },
        "id": "xpl5-V5dKKUc",
        "outputId": "755d9f3b-386b-45d7-cefa-f7de9138e3cd"
      },
      "execution_count": 43,
      "outputs": [
        {
          "output_type": "stream",
          "name": "stdout",
          "text": [
            "\n",
            "Segundo elemento de lista1: 3\n"
          ]
        }
      ]
    },
    {
      "cell_type": "markdown",
      "source": [
        "**Ejercicio 4**"
      ],
      "metadata": {
        "id": "BNWkkygK78m6"
      }
    },
    {
      "cell_type": "code",
      "source": [
        "matriz = np.random.randint(20, 40, size=(2,2))\n",
        "print(matriz)"
      ],
      "metadata": {
        "colab": {
          "base_uri": "https://localhost:8080/"
        },
        "id": "QNxHAbNb7-nY",
        "outputId": "93d9389f-ebfd-4b59-b250-209c2eb0a17b"
      },
      "execution_count": 46,
      "outputs": [
        {
          "output_type": "stream",
          "name": "stdout",
          "text": [
            "[[32 39]\n",
            " [39 28]]\n"
          ]
        }
      ]
    },
    {
      "cell_type": "code",
      "source": [
        "determinante=np.linalg.det(matriz)\n",
        "print(determinante)"
      ],
      "metadata": {
        "colab": {
          "base_uri": "https://localhost:8080/"
        },
        "id": "ganQqUbJ8jBN",
        "outputId": "93ea3071-8a33-4e98-fcd7-3a2e93f68ae2"
      },
      "execution_count": 47,
      "outputs": [
        {
          "output_type": "stream",
          "name": "stdout",
          "text": [
            "-625.0000000000003\n"
          ]
        }
      ]
    },
    {
      "cell_type": "code",
      "source": [
        "if determinante!=0:\n",
        "  inversa= np.linalg.inv(matriz)\n",
        "  print(inversa)\n",
        "else:\n",
        "  print(\"El determinante es 0\")"
      ],
      "metadata": {
        "colab": {
          "base_uri": "https://localhost:8080/"
        },
        "id": "r26HAl3b96yz",
        "outputId": "b49adaf3-496d-4b97-e0e6-21ac590f4427"
      },
      "execution_count": 48,
      "outputs": [
        {
          "output_type": "stream",
          "name": "stdout",
          "text": [
            "[[-0.0448  0.0624]\n",
            " [ 0.0624 -0.0512]]\n"
          ]
        }
      ]
    },
    {
      "cell_type": "code",
      "source": [
        "if determinante!=0:\n",
        "  matrizIdentidad=np.dot(matriz,inversa)\n",
        "  matrizIdentidad = np.round(matrizIdentidad, decimals=6)\n",
        "  print(\"Matriz original por la inversa es:\", matrizIdentidad)\n",
        "else:\n",
        "  print(\"La matriz no tiene inversa porque el determinante es cero\")"
      ],
      "metadata": {
        "colab": {
          "base_uri": "https://localhost:8080/"
        },
        "id": "REFS_TSo-BVb",
        "outputId": "69132965-eb97-49c9-c37f-e9c5880fbc7a",
        "collapsed": true
      },
      "execution_count": 49,
      "outputs": [
        {
          "output_type": "stream",
          "name": "stdout",
          "text": [
            "Matriz original por la inversa es: [[ 1. -0.]\n",
            " [ 0.  1.]]\n"
          ]
        }
      ]
    },
    {
      "cell_type": "code",
      "source": [
        "MatrizSymPy = sp.Matrix(matriz)\n",
        "letrica= sp.symbols('λ')"
      ],
      "metadata": {
        "id": "yRgbkKc5BWBp",
        "collapsed": true
      },
      "execution_count": 50,
      "outputs": []
    },
    {
      "cell_type": "code",
      "source": [
        "MatrizIdentidad = sp.eye(MatrizSymPy.shape[0])"
      ],
      "metadata": {
        "id": "AkYaXE7jBZOD",
        "collapsed": true
      },
      "execution_count": 51,
      "outputs": []
    },
    {
      "cell_type": "code",
      "source": [
        "polinomioCaracteristico = (MatrizSymPy - letrica * MatrizIdentidad).det()\n",
        "print(\"polinomio Caracteristico:\")\n",
        "print(polinomioCaracteristico)"
      ],
      "metadata": {
        "colab": {
          "base_uri": "https://localhost:8080/"
        },
        "id": "7flW71YnBbSq",
        "outputId": "3b903acb-0f1b-4d7c-d351-658849eba66f"
      },
      "execution_count": 52,
      "outputs": [
        {
          "output_type": "stream",
          "name": "stdout",
          "text": [
            "polinomio Caracteristico:\n",
            "λ**2 - 60*λ - 625\n"
          ]
        }
      ]
    },
    {
      "cell_type": "markdown",
      "source": [
        "**Ejercicio 5**\n"
      ],
      "metadata": {
        "id": "96f6lhWFNnzk"
      }
    },
    {
      "cell_type": "code",
      "source": [
        "x = sp.symbols('x')\n",
        "z=(x+1)*(x-1)"
      ],
      "metadata": {
        "id": "HGz-1uOlNq48"
      },
      "execution_count": 65,
      "outputs": []
    },
    {
      "cell_type": "code",
      "source": [
        "elevado=(z**2)+(2*x)+2"
      ],
      "metadata": {
        "id": "gffSKUPDOqBw"
      },
      "execution_count": 66,
      "outputs": []
    },
    {
      "cell_type": "code",
      "source": [
        "simplificado = sp.simplify(elevado)\n"
      ],
      "metadata": {
        "id": "M1a4Obi2PQSH"
      },
      "execution_count": 68,
      "outputs": []
    },
    {
      "cell_type": "code",
      "source": [
        "print(simplificado)"
      ],
      "metadata": {
        "colab": {
          "base_uri": "https://localhost:8080/"
        },
        "id": "KodbiUjnPY45",
        "outputId": "4c301c6d-0dae-45f8-9c80-da0094e5f4f1"
      },
      "execution_count": 69,
      "outputs": [
        {
          "output_type": "stream",
          "name": "stdout",
          "text": [
            "x**4 - 2*x**2 + 2*x + 3\n"
          ]
        }
      ]
    },
    {
      "cell_type": "markdown",
      "source": [
        "**Ejercicio 6**"
      ],
      "metadata": {
        "id": "abpNNqKZC3K_"
      }
    },
    {
      "cell_type": "code",
      "source": [
        "def f1(x):\n",
        "  return np.sin(x**2)\n",
        "x=1\n",
        "print(f1(x))"
      ],
      "metadata": {
        "colab": {
          "base_uri": "https://localhost:8080/"
        },
        "id": "bq5WygJjC7Gx",
        "outputId": "a1ec3323-a02d-42ab-efd3-72ce932c88d8"
      },
      "execution_count": 54,
      "outputs": [
        {
          "output_type": "stream",
          "name": "stdout",
          "text": [
            "0.8414709848078965\n"
          ]
        }
      ]
    },
    {
      "cell_type": "code",
      "source": [
        "def g1(x):\n",
        "  return np.sin(x)**2\n",
        "x=1\n",
        "print(g1(x))"
      ],
      "metadata": {
        "colab": {
          "base_uri": "https://localhost:8080/"
        },
        "id": "NGhScGeTD5IS",
        "outputId": "b4fb7ba9-f927-4221-8794-bc60dd850f8d"
      },
      "execution_count": 55,
      "outputs": [
        {
          "output_type": "stream",
          "name": "stdout",
          "text": [
            "0.7080734182735712\n"
          ]
        }
      ]
    }
  ]
}