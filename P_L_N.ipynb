{
  "nbformat": 4,
  "nbformat_minor": 0,
  "metadata": {
    "colab": {
      "provenance": [],
      "toc_visible": true,
      "include_colab_link": true
    },
    "kernelspec": {
      "name": "python3",
      "display_name": "Python 3"
    },
    "language_info": {
      "name": "python"
    }
  },
  "cells": [
    {
      "cell_type": "markdown",
      "metadata": {
        "id": "view-in-github",
        "colab_type": "text"
      },
      "source": [
        "<a href=\"https://colab.research.google.com/github/rebeca07-pedrozo/P.L.N/blob/main/P_L_N.ipynb\" target=\"_parent\"><img src=\"https://colab.research.google.com/assets/colab-badge.svg\" alt=\"Open In Colab\"/></a>"
      ]
    },
    {
      "cell_type": "code",
      "execution_count": null,
      "metadata": {
        "id": "Dk4Yhs1E2dhy"
      },
      "outputs": [],
      "source": [
        "import numpy as np\n",
        "import pandas as pd\n",
        "import sympy as sp"
      ]
    },
    {
      "cell_type": "markdown",
      "source": [
        "Integrantes:\n",
        "*    Jahiro Bermejo\n",
        "*   Jarol Gutierrez\n",
        "*    Orlando Stalin\n",
        "*    Rebeca Pedrozo"
      ],
      "metadata": {
        "id": "ilEB9K1XR2se"
      }
    },
    {
      "cell_type": "markdown",
      "source": [
        "# Ejercicios sábado 9 de agosto"
      ],
      "metadata": {
        "id": "C32An5a34h7a"
      }
    },
    {
      "cell_type": "markdown",
      "source": [
        "**Ejercicio  1**"
      ],
      "metadata": {
        "id": "GD1Blkhw49a7"
      }
    },
    {
      "cell_type": "code",
      "source": [
        "Logaritmo1=np.log(np.pi/4)\n",
        "Logaritmo2=np.log(np.e**2)\n",
        "print(Logaritmo2)\n",
        "Seno=np.sin(np.pi/2)\n",
        "print(Seno)\n",
        "Arct=np.arctan(1)\n",
        "print(Arct)\n",
        "Log2=np.log2(10)\n"
      ],
      "metadata": {
        "id": "Jd25Xl8A5AXn",
        "colab": {
          "base_uri": "https://localhost:8080/"
        },
        "outputId": "f18aa293-49d0-4dd0-c566-3bb8e56c9cf8"
      },
      "execution_count": null,
      "outputs": [
        {
          "output_type": "stream",
          "name": "stdout",
          "text": [
            "2.0\n",
            "1.0\n",
            "0.7853981633974483\n"
          ]
        }
      ]
    },
    {
      "cell_type": "code",
      "source": [
        "print(np.log(np.pi/4))\n"
      ],
      "metadata": {
        "colab": {
          "base_uri": "https://localhost:8080/"
        },
        "id": "68MJlmd2w1LQ",
        "outputId": "d229b6fa-d1b8-4369-f4df-9c16c34a679e"
      },
      "execution_count": null,
      "outputs": [
        {
          "output_type": "stream",
          "name": "stdout",
          "text": [
            "-0.2415644752704905\n"
          ]
        }
      ]
    },
    {
      "cell_type": "code",
      "source": [
        "print(np.log(np.e**2))"
      ],
      "metadata": {
        "colab": {
          "base_uri": "https://localhost:8080/"
        },
        "id": "-SoV7I0xw6uI",
        "outputId": "23fffbe4-693d-4373-c4fe-93713a272f63"
      },
      "execution_count": null,
      "outputs": [
        {
          "output_type": "stream",
          "name": "stdout",
          "text": [
            "2.0\n"
          ]
        }
      ]
    },
    {
      "cell_type": "code",
      "source": [
        "print(np.sin(np.pi/2))"
      ],
      "metadata": {
        "colab": {
          "base_uri": "https://localhost:8080/"
        },
        "id": "YehTaemlw77G",
        "outputId": "d04017f4-5bef-43f6-a21a-7910cea671da"
      },
      "execution_count": null,
      "outputs": [
        {
          "output_type": "stream",
          "name": "stdout",
          "text": [
            "1.0\n"
          ]
        }
      ]
    },
    {
      "cell_type": "code",
      "source": [
        "print(np.arctan(1))"
      ],
      "metadata": {
        "colab": {
          "base_uri": "https://localhost:8080/"
        },
        "id": "qlOimnRdw_Zr",
        "outputId": "fc9eabd2-fa4e-4eeb-83af-c142cfeea0ba"
      },
      "execution_count": null,
      "outputs": [
        {
          "output_type": "stream",
          "name": "stdout",
          "text": [
            "0.7853981633974483\n"
          ]
        }
      ]
    },
    {
      "cell_type": "code",
      "source": [
        "print(np.log2(10))"
      ],
      "metadata": {
        "colab": {
          "base_uri": "https://localhost:8080/"
        },
        "id": "serrHBt5xCs7",
        "outputId": "e9ed13bc-a18b-4685-a9c5-428cbf6dae82"
      },
      "execution_count": null,
      "outputs": [
        {
          "output_type": "stream",
          "name": "stdout",
          "text": [
            "3.321928094887362\n"
          ]
        }
      ]
    },
    {
      "cell_type": "markdown",
      "source": [
        "**Ejericio 2**"
      ],
      "metadata": {
        "id": "0Srmw4lY5Dnx"
      }
    },
    {
      "cell_type": "code",
      "source": [
        "A=np.array([2,-1,4,0,3])\n",
        "B=np.array([-1,0,2,3,1])\n",
        "C=np.array([0,1,-3,4,-7])\n",
        "print(A,B,C)"
      ],
      "metadata": {
        "colab": {
          "base_uri": "https://localhost:8080/"
        },
        "id": "6ylaQ1_O5FhN",
        "outputId": "a61f7020-b02f-4111-e621-4b915c0665b2"
      },
      "execution_count": null,
      "outputs": [
        {
          "output_type": "stream",
          "name": "stdout",
          "text": [
            "[ 2 -1  4  0  3] [-1  0  2  3  1] [ 0  1 -3  4 -7]\n"
          ]
        }
      ]
    },
    {
      "cell_type": "code",
      "source": [
        "operacion1=(2*A)-(3*B)+C\n",
        "print(operacion1)"
      ],
      "metadata": {
        "colab": {
          "base_uri": "https://localhost:8080/"
        },
        "id": "6_zIFbwF7eWa",
        "outputId": "eac7b995-1941-4591-d762-dd304fda9ba7"
      },
      "execution_count": null,
      "outputs": [
        {
          "output_type": "stream",
          "name": "stdout",
          "text": [
            "[ 7 -1 -1 -5 -4]\n"
          ]
        }
      ]
    },
    {
      "cell_type": "code",
      "source": [
        "operacion2=np.dot(A,B)\n",
        "print(operacion2)"
      ],
      "metadata": {
        "colab": {
          "base_uri": "https://localhost:8080/"
        },
        "id": "CZ4zpMog7eey",
        "outputId": "6e42fabc-00b4-4acf-84ba-5d7099397568"
      },
      "execution_count": null,
      "outputs": [
        {
          "output_type": "stream",
          "name": "stdout",
          "text": [
            "9\n"
          ]
        }
      ]
    },
    {
      "cell_type": "code",
      "source": [
        "operacion3=A*B\n",
        "print(operacion3)\n"
      ],
      "metadata": {
        "colab": {
          "base_uri": "https://localhost:8080/"
        },
        "id": "8pThAfsJ7fNA",
        "outputId": "763559a7-4aa1-4cca-c852-ab3c701cc39f"
      },
      "execution_count": null,
      "outputs": [
        {
          "output_type": "stream",
          "name": "stdout",
          "text": [
            "[-2  0  8  0  3]\n"
          ]
        }
      ]
    },
    {
      "cell_type": "markdown",
      "source": [
        "**Ejercicio 3**\n",
        "\n",
        "\n"
      ],
      "metadata": {
        "id": "qg9oj9Qf7u-r"
      }
    },
    {
      "cell_type": "code",
      "source": [
        "lista1=np.arange(2,22)\n",
        "lista2=np.arange(22,32)\n",
        "print(lista1)\n",
        "print(lista2)"
      ],
      "metadata": {
        "id": "bj1DT_Vq78BC",
        "colab": {
          "base_uri": "https://localhost:8080/"
        },
        "outputId": "bf5c5616-7bdd-447e-c1db-d6752badbc91"
      },
      "execution_count": null,
      "outputs": [
        {
          "output_type": "stream",
          "name": "stdout",
          "text": [
            "[ 2  3  4  5  6  7  8  9 10 11 12 13 14 15 16 17 18 19 20 21]\n",
            "[22 23 24 25 26 27 28 29 30 31]\n"
          ]
        }
      ]
    },
    {
      "cell_type": "code",
      "source": [
        "segundoElemento=lista1[1]\n",
        "productos=segundoElemento*lista2\n",
        "print(productos)"
      ],
      "metadata": {
        "colab": {
          "base_uri": "https://localhost:8080/"
        },
        "id": "wIAL3KAtKDz0",
        "outputId": "73fe80c3-fc68-4508-af3e-02d3fa4b1fce"
      },
      "execution_count": null,
      "outputs": [
        {
          "output_type": "stream",
          "name": "stdout",
          "text": [
            "[66 69 72 75 78 81 84 87 90 93]\n"
          ]
        }
      ]
    },
    {
      "cell_type": "code",
      "source": [
        "resultado=productos/lista2\n",
        "print(resultado)"
      ],
      "metadata": {
        "colab": {
          "base_uri": "https://localhost:8080/"
        },
        "id": "ffhcQ2qEQpXY",
        "outputId": "96e851ab-aa39-476f-c499-4df055e206dd"
      },
      "execution_count": null,
      "outputs": [
        {
          "output_type": "stream",
          "name": "stdout",
          "text": [
            "[3. 3. 3. 3. 3. 3. 3. 3. 3. 3.]\n"
          ]
        }
      ]
    },
    {
      "cell_type": "code",
      "source": [
        "segundo_elem = lista1[1]\n",
        "print(\"\\nSegundo elemento de lista1:\", segundo_elem)"
      ],
      "metadata": {
        "colab": {
          "base_uri": "https://localhost:8080/"
        },
        "id": "xpl5-V5dKKUc",
        "outputId": "83a1b632-7652-4229-9aef-1c46d912926c"
      },
      "execution_count": null,
      "outputs": [
        {
          "output_type": "stream",
          "name": "stdout",
          "text": [
            "\n",
            "Segundo elemento de lista1: 3\n"
          ]
        }
      ]
    },
    {
      "cell_type": "markdown",
      "source": [
        "**Ejercicio 4**"
      ],
      "metadata": {
        "id": "BNWkkygK78m6"
      }
    },
    {
      "cell_type": "code",
      "source": [
        "matriz = np.random.randint(20, 40, size=(2,2))\n",
        "print(matriz)"
      ],
      "metadata": {
        "colab": {
          "base_uri": "https://localhost:8080/"
        },
        "id": "QNxHAbNb7-nY",
        "outputId": "462fb38b-a346-46fa-eb21-00a2cd6a245c"
      },
      "execution_count": null,
      "outputs": [
        {
          "output_type": "stream",
          "name": "stdout",
          "text": [
            "[[31 32]\n",
            " [36 38]]\n"
          ]
        }
      ]
    },
    {
      "cell_type": "code",
      "source": [
        "determinante=np.linalg.det(matriz)\n",
        "print(determinante)"
      ],
      "metadata": {
        "colab": {
          "base_uri": "https://localhost:8080/"
        },
        "id": "ganQqUbJ8jBN",
        "outputId": "16b1a8bf-c2c5-441b-b194-3c97de6a81a4"
      },
      "execution_count": null,
      "outputs": [
        {
          "output_type": "stream",
          "name": "stdout",
          "text": [
            "25.999999999999968\n"
          ]
        }
      ]
    },
    {
      "cell_type": "code",
      "source": [
        "if determinante!=0:\n",
        "  inversa= np.linalg.inv(matriz)\n",
        "  print(inversa)\n",
        "else:\n",
        "  print(\"El determinante es 0\")"
      ],
      "metadata": {
        "colab": {
          "base_uri": "https://localhost:8080/"
        },
        "id": "r26HAl3b96yz",
        "outputId": "a97b9405-bb3b-4fd4-833c-700680e23b88"
      },
      "execution_count": null,
      "outputs": [
        {
          "output_type": "stream",
          "name": "stdout",
          "text": [
            "[[ 1.46153846 -1.23076923]\n",
            " [-1.38461538  1.19230769]]\n"
          ]
        }
      ]
    },
    {
      "cell_type": "code",
      "source": [
        "if determinante!=0:\n",
        "  matrizIdentidad=np.dot(matriz,inversa)\n",
        "  matrizIdentidad = np.round(matrizIdentidad, decimals=6)\n",
        "  print(\"Matriz original por la inversa es:\", matrizIdentidad)\n",
        "else:\n",
        "  print(\"La matriz no tiene inversa porque el determinante es cero\")"
      ],
      "metadata": {
        "colab": {
          "base_uri": "https://localhost:8080/"
        },
        "id": "REFS_TSo-BVb",
        "outputId": "e0336e30-4d95-4247-f5c2-e94baddca50b",
        "collapsed": true
      },
      "execution_count": null,
      "outputs": [
        {
          "output_type": "stream",
          "name": "stdout",
          "text": [
            "Matriz original por la inversa es: [[ 1.  0.]\n",
            " [-0.  1.]]\n"
          ]
        }
      ]
    },
    {
      "cell_type": "code",
      "source": [
        "MatrizSymPy = sp.Matrix(matriz)\n",
        "letrica= sp.symbols('λ')"
      ],
      "metadata": {
        "id": "yRgbkKc5BWBp",
        "collapsed": true
      },
      "execution_count": null,
      "outputs": []
    },
    {
      "cell_type": "code",
      "source": [
        "MatrizIdentidad = sp.eye(MatrizSymPy.shape[0])"
      ],
      "metadata": {
        "id": "AkYaXE7jBZOD",
        "collapsed": true
      },
      "execution_count": null,
      "outputs": []
    },
    {
      "cell_type": "code",
      "source": [
        "polinomioCaracteristico = (MatrizSymPy - letrica * MatrizIdentidad).det()\n",
        "print(\"polinomio Caracteristico:\")\n",
        "print(polinomioCaracteristico)"
      ],
      "metadata": {
        "colab": {
          "base_uri": "https://localhost:8080/"
        },
        "id": "7flW71YnBbSq",
        "outputId": "aae58aa2-68e9-490f-ca12-43b38cd12f8a"
      },
      "execution_count": null,
      "outputs": [
        {
          "output_type": "stream",
          "name": "stdout",
          "text": [
            "polinomio Caracteristico:\n",
            "λ**2 - 69*λ + 26\n"
          ]
        }
      ]
    },
    {
      "cell_type": "markdown",
      "source": [
        "**Ejercicio 5**\n"
      ],
      "metadata": {
        "id": "96f6lhWFNnzk"
      }
    },
    {
      "cell_type": "code",
      "source": [
        "x = sp.symbols('x')\n",
        "z=(x+1)*(x-1)"
      ],
      "metadata": {
        "id": "HGz-1uOlNq48"
      },
      "execution_count": null,
      "outputs": []
    },
    {
      "cell_type": "code",
      "source": [
        "elevado=(z**2)+(2*x)+2"
      ],
      "metadata": {
        "id": "gffSKUPDOqBw"
      },
      "execution_count": null,
      "outputs": []
    },
    {
      "cell_type": "code",
      "source": [
        "simplificado = sp.simplify(elevado)\n"
      ],
      "metadata": {
        "id": "M1a4Obi2PQSH"
      },
      "execution_count": null,
      "outputs": []
    },
    {
      "cell_type": "code",
      "source": [
        "print(simplificado)"
      ],
      "metadata": {
        "colab": {
          "base_uri": "https://localhost:8080/"
        },
        "id": "KodbiUjnPY45",
        "outputId": "bb2fb3c7-12c8-4510-de48-6b00f0b5c860"
      },
      "execution_count": null,
      "outputs": [
        {
          "output_type": "stream",
          "name": "stdout",
          "text": [
            "x**4 - 2*x**2 + 2*x + 3\n"
          ]
        }
      ]
    },
    {
      "cell_type": "markdown",
      "source": [
        "**Ejercicio 6**"
      ],
      "metadata": {
        "id": "abpNNqKZC3K_"
      }
    },
    {
      "cell_type": "code",
      "source": [
        "def f1(x):\n",
        "  return np.sin(x**2)\n",
        "x=1\n",
        "print(f1(x))"
      ],
      "metadata": {
        "colab": {
          "base_uri": "https://localhost:8080/"
        },
        "id": "bq5WygJjC7Gx",
        "outputId": "6607fad7-f8a5-4318-b9cc-977b10882f8c"
      },
      "execution_count": null,
      "outputs": [
        {
          "output_type": "stream",
          "name": "stdout",
          "text": [
            "0.8414709848078965\n"
          ]
        }
      ]
    },
    {
      "cell_type": "code",
      "source": [
        "def g1(x):\n",
        "  return np.sin(x)**2\n",
        "x=1\n",
        "print(g1(x))"
      ],
      "metadata": {
        "colab": {
          "base_uri": "https://localhost:8080/"
        },
        "id": "NGhScGeTD5IS",
        "outputId": "6762e02f-2d7f-40f4-d6e3-7cf5d9596fca"
      },
      "execution_count": null,
      "outputs": [
        {
          "output_type": "stream",
          "name": "stdout",
          "text": [
            "0.7080734182735712\n"
          ]
        }
      ]
    },
    {
      "cell_type": "markdown",
      "source": [
        "# Primer taller en grupo"
      ],
      "metadata": {
        "id": "WlMA_bSz9ywH"
      }
    },
    {
      "cell_type": "markdown",
      "source": [
        "**Taller en clase 14 de agosto**"
      ],
      "metadata": {
        "id": "TvJZlX_o-CBI"
      }
    },
    {
      "cell_type": "code",
      "source": [],
      "metadata": {
        "id": "zDzM2IAH97Vd"
      },
      "execution_count": null,
      "outputs": []
    }
  ]
}