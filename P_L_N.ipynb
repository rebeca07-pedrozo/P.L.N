{
  "nbformat": 4,
  "nbformat_minor": 0,
  "metadata": {
    "colab": {
      "provenance": [],
      "toc_visible": true,
      "include_colab_link": true
    },
    "kernelspec": {
      "name": "python3",
      "display_name": "Python 3"
    },
    "language_info": {
      "name": "python"
    }
  },
  "cells": [
    {
      "cell_type": "markdown",
      "metadata": {
        "id": "view-in-github",
        "colab_type": "text"
      },
      "source": [
        "<a href=\"https://colab.research.google.com/github/rebeca07-pedrozo/P.L.N/blob/main/P_L_N.ipynb\" target=\"_parent\"><img src=\"https://colab.research.google.com/assets/colab-badge.svg\" alt=\"Open In Colab\"/></a>"
      ]
    },
    {
      "cell_type": "code",
      "execution_count": 59,
      "metadata": {
        "id": "Dk4Yhs1E2dhy"
      },
      "outputs": [],
      "source": [
        "import numpy as np\n",
        "import pandas as pd\n",
        "import sympy as sp"
      ]
    },
    {
      "cell_type": "markdown",
      "source": [
        "# Ejericios sábado 9 de agosto"
      ],
      "metadata": {
        "id": "C32An5a34h7a"
      }
    },
    {
      "cell_type": "markdown",
      "source": [
        "**Ejercicio  1**"
      ],
      "metadata": {
        "id": "GD1Blkhw49a7"
      }
    },
    {
      "cell_type": "code",
      "source": [],
      "metadata": {
        "id": "Jd25Xl8A5AXn"
      },
      "execution_count": null,
      "outputs": []
    },
    {
      "cell_type": "markdown",
      "source": [
        "**Ejericio 2**"
      ],
      "metadata": {
        "id": "0Srmw4lY5Dnx"
      }
    },
    {
      "cell_type": "code",
      "source": [
        "A=np.array([2,-1,4,0,3])\n",
        "B=np.array([-1,0,2,3,1])\n",
        "C=np.array([0,1,-3,4,-7])\n",
        "print(A,B,C)"
      ],
      "metadata": {
        "colab": {
          "base_uri": "https://localhost:8080/"
        },
        "id": "6ylaQ1_O5FhN",
        "outputId": "600f4c24-3335-4a14-ffb8-b6f6e65b79ef"
      },
      "execution_count": 13,
      "outputs": [
        {
          "output_type": "stream",
          "name": "stdout",
          "text": [
            "[ 2 -1  4  0  3] [-1  0  2  3  1] [ 0  1 -3  4 -7]\n"
          ]
        }
      ]
    },
    {
      "cell_type": "code",
      "source": [
        "operacion1=(2*A)-(3*B)+C\n",
        "print(operacion1)"
      ],
      "metadata": {
        "colab": {
          "base_uri": "https://localhost:8080/"
        },
        "id": "6_zIFbwF7eWa",
        "outputId": "12714231-2b26-461a-e8d3-02c9787d06a2"
      },
      "execution_count": 14,
      "outputs": [
        {
          "output_type": "stream",
          "name": "stdout",
          "text": [
            "[ 7 -1 -1 -5 -4]\n"
          ]
        }
      ]
    },
    {
      "cell_type": "code",
      "source": [
        "operacion2=np.dot(A,B)\n",
        "print(operacion2)"
      ],
      "metadata": {
        "colab": {
          "base_uri": "https://localhost:8080/"
        },
        "id": "CZ4zpMog7eey",
        "outputId": "0340e551-f017-40f4-e703-cf612d7edf29"
      },
      "execution_count": 15,
      "outputs": [
        {
          "output_type": "stream",
          "name": "stdout",
          "text": [
            "9\n"
          ]
        }
      ]
    },
    {
      "cell_type": "code",
      "source": [
        "operacion3=A*B\n",
        "print(operacion3)\n"
      ],
      "metadata": {
        "colab": {
          "base_uri": "https://localhost:8080/"
        },
        "id": "8pThAfsJ7fNA",
        "outputId": "f9dfbf3a-74ea-4881-fe4c-0b7ea40c470f"
      },
      "execution_count": 16,
      "outputs": [
        {
          "output_type": "stream",
          "name": "stdout",
          "text": [
            "[-2  0  8  0  3]\n"
          ]
        }
      ]
    },
    {
      "cell_type": "markdown",
      "source": [
        "**Ejercicio 3**\n",
        "\n",
        "\n"
      ],
      "metadata": {
        "id": "qg9oj9Qf7u-r"
      }
    },
    {
      "cell_type": "code",
      "source": [],
      "metadata": {
        "id": "bj1DT_Vq78BC"
      },
      "execution_count": null,
      "outputs": []
    },
    {
      "cell_type": "markdown",
      "source": [
        "**Ejercicio 4**"
      ],
      "metadata": {
        "id": "BNWkkygK78m6"
      }
    },
    {
      "cell_type": "code",
      "source": [
        "matriz = np.random.randint(20, 40, size=(2,2))\n",
        "print(matriz)"
      ],
      "metadata": {
        "colab": {
          "base_uri": "https://localhost:8080/"
        },
        "id": "QNxHAbNb7-nY",
        "outputId": "0394abae-8251-44ee-9ed8-4870d570aa43"
      },
      "execution_count": 55,
      "outputs": [
        {
          "output_type": "stream",
          "name": "stdout",
          "text": [
            "[[25 36]\n",
            " [25 24]]\n"
          ]
        }
      ]
    },
    {
      "cell_type": "code",
      "source": [
        "determinante=np.linalg.det(matriz)\n",
        "print(determinante)"
      ],
      "metadata": {
        "colab": {
          "base_uri": "https://localhost:8080/"
        },
        "id": "ganQqUbJ8jBN",
        "outputId": "643d0831-e2d1-4796-81f2-df2c733474cd"
      },
      "execution_count": 56,
      "outputs": [
        {
          "output_type": "stream",
          "name": "stdout",
          "text": [
            "-299.99999999999994\n"
          ]
        }
      ]
    },
    {
      "cell_type": "code",
      "source": [
        "if determinante!=0:\n",
        "  inversa= np.linalg.inv(matriz)\n",
        "  print(inversa)\n",
        "else:\n",
        "  print(\"El determinante es 0\")"
      ],
      "metadata": {
        "colab": {
          "base_uri": "https://localhost:8080/"
        },
        "id": "r26HAl3b96yz",
        "outputId": "7924d922-04e6-4eda-e974-5488498c0860"
      },
      "execution_count": 57,
      "outputs": [
        {
          "output_type": "stream",
          "name": "stdout",
          "text": [
            "[[-0.08        0.12      ]\n",
            " [ 0.08333333 -0.08333333]]\n"
          ]
        }
      ]
    },
    {
      "cell_type": "code",
      "source": [
        "if determinante!=0:\n",
        "  matrizIdentidad=np.dot(matriz,inversa)\n",
        "  matrizIdentidad = np.round(matrizIdentidad, decimals=6)\n",
        "  print(\"Matriz original por la inversa es:\", matrizIdentidad)\n",
        "else:\n",
        "  print(\"La matriz no tiene inversa porque el determinante es cero\")"
      ],
      "metadata": {
        "colab": {
          "base_uri": "https://localhost:8080/"
        },
        "id": "REFS_TSo-BVb",
        "outputId": "b6773b3e-b505-47b5-9926-6850a3b0bb55"
      },
      "execution_count": 58,
      "outputs": [
        {
          "output_type": "stream",
          "name": "stdout",
          "text": [
            "Matriz original por la inversa es: [[ 1.  0.]\n",
            " [-0.  1.]]\n"
          ]
        }
      ]
    },
    {
      "cell_type": "code",
      "source": [
        "MatrizSymPy = sp.Matrix(matriz)\n",
        "letrica= sp.symbols('λ')"
      ],
      "metadata": {
        "id": "yRgbkKc5BWBp"
      },
      "execution_count": 65,
      "outputs": []
    },
    {
      "cell_type": "code",
      "source": [
        "MatrizIdentidad = sp.eye(MatrizSymPy.shape[0])"
      ],
      "metadata": {
        "id": "AkYaXE7jBZOD"
      },
      "execution_count": 67,
      "outputs": []
    },
    {
      "cell_type": "code",
      "source": [
        "polinomioCaracteristico = (MatrizSymPy - letrica * MatrizIdentidad).det()\n",
        "print(\"polinomio Caracteristico:\")\n",
        "print(polinomioCaracteristico)"
      ],
      "metadata": {
        "colab": {
          "base_uri": "https://localhost:8080/"
        },
        "id": "7flW71YnBbSq",
        "outputId": "7e652654-12b6-4746-94f8-646518076fb2"
      },
      "execution_count": 68,
      "outputs": [
        {
          "output_type": "stream",
          "name": "stdout",
          "text": [
            "polinomio Caracteristico:\n",
            "λ**2 - 49*λ - 300\n"
          ]
        }
      ]
    },
    {
      "cell_type": "markdown",
      "source": [
        "**Ejericio 4**"
      ],
      "metadata": {
        "id": "AlSwCS8rCzLT"
      }
    },
    {
      "cell_type": "code",
      "source": [],
      "metadata": {
        "id": "3qr-dkISC2cd"
      },
      "execution_count": null,
      "outputs": []
    },
    {
      "cell_type": "markdown",
      "source": [
        "**Ejercicio 5**"
      ],
      "metadata": {
        "id": "abpNNqKZC3K_"
      }
    },
    {
      "cell_type": "code",
      "source": [
        "def f1(x):\n",
        "  return np.sin(x**2)\n",
        "x=1\n",
        "print(f1(x))"
      ],
      "metadata": {
        "colab": {
          "base_uri": "https://localhost:8080/"
        },
        "id": "bq5WygJjC7Gx",
        "outputId": "29545a2e-473a-40d2-b00a-91719b5d5699"
      },
      "execution_count": 71,
      "outputs": [
        {
          "output_type": "stream",
          "name": "stdout",
          "text": [
            "0.8414709848078965\n"
          ]
        }
      ]
    },
    {
      "cell_type": "code",
      "source": [
        "def g1(x):\n",
        "  return np.sin(x)**2\n",
        "x=1\n",
        "print(g1(x))"
      ],
      "metadata": {
        "colab": {
          "base_uri": "https://localhost:8080/"
        },
        "id": "NGhScGeTD5IS",
        "outputId": "5c9c9331-cbf1-4239-cecf-e107b7a3013d"
      },
      "execution_count": 72,
      "outputs": [
        {
          "output_type": "stream",
          "name": "stdout",
          "text": [
            "0.7080734182735712\n"
          ]
        }
      ]
    },
    {
      "cell_type": "markdown",
      "source": [
        "**Ejercicio 6**"
      ],
      "metadata": {
        "id": "TXdcN4amFhSm"
      }
    }
  ]
}